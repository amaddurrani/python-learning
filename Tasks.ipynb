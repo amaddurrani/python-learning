{
 "cells": [
  {
   "cell_type": "markdown",
   "metadata": {},
   "source": [
    "\n",
    "# Task 1"
   ]
  },
  {
   "cell_type": "code",
   "execution_count": 13,
   "metadata": {},
   "outputs": [
    {
     "name": "stdout",
     "output_type": "stream",
     "text": [
      "enter your marks49\n",
      "E\n"
     ]
    }
   ],
   "source": [
    "\n",
    "grade = int(input(\"enter your marks\"))\n",
    "if (grade >= 90):\n",
    "    print(\"A\")\n",
    "elif(grade >=80 and grade <= 89):\n",
    "    print(\"B\")\n",
    "elif(grade >= 70 and grade <=79):\n",
    "    print(\"C\")\n",
    "elif(grade >=60 and grade <=69):\n",
    "    print(\"D\")\n",
    "elif(grade<=60):\n",
    "    print(\"E\")"
   ]
  },
  {
   "cell_type": "code",
   "execution_count": 2,
   "metadata": {},
   "outputs": [
    {
     "name": "stdout",
     "output_type": "stream",
     "text": [
      "Enter number of days1\n",
      " sunday or thursday?sunday\n",
      "time?11\n",
      "enter 1 if dvd is scratched otherwise 00\n",
      "0.795\n"
     ]
    }
   ],
   "source": [
    "cost =1.59\n",
    "scratched=0\n",
    "days=int(input(\"Enter number of days\"))\n",
    "day=input(\"sunday or thursday?\")\n",
    "time= int(input(\"time?\"))\n",
    "scratched=int(input(\"enter 1 if dvd is scratched otherwise 0\"))\n",
    "if(time >20 and time<=24):\n",
    "    if(scratched==1):\n",
    "        cost=cost+1\n",
    "    days=days+1\n",
    "    cost=days*cost\n",
    "if(day==\"thursday\"):\n",
    "    cost=cost-(cost*0.30)\n",
    "    if(scratched==1):\n",
    "        cost=cost+2\n",
    "    cost=cost*days\n",
    "elif(day==\"sunday\"):\n",
    "    cost=cost-(cost*0.5)\n",
    "    if(scratched==1):\n",
    "        cost=cost+3\n",
    "    cost=cost*days\n",
    "print(cost)"
   ]
  },
  {
   "cell_type": "code",
   "execution_count": 18,
   "metadata": {},
   "outputs": [
    {
     "name": "stdout",
     "output_type": "stream",
     "text": [
      "['banana', 'cherry', 'apple', 'kivi']\n"
     ]
    }
   ],
   "source": [
    "amad=[\"mango\",\"kivi\",\"apple\",\"cherry\",\"banana\"]\n",
    "print(amad[4:-5:-1])"
   ]
  },
  {
   "cell_type": "code",
   "execution_count": 2,
   "metadata": {},
   "outputs": [
    {
     "name": "stdout",
     "output_type": "stream",
     "text": [
      "0\n",
      "1\n",
      "2\n",
      "3\n",
      "4\n",
      "5\n",
      "6\n",
      "yes\n"
     ]
    }
   ],
   "source": [
    "l=[0,1,2,3,4,5,6,7,8,9]\n",
    "i=0\n",
    "while(i<10):\n",
    "    print(l[i])\n",
    "    if l[i]==6:\n",
    "        break\n",
    "    else:\n",
    "        i+=1\n",
    "if 6 in l:\n",
    "    print(\"yes\")\n",
    "    "
   ]
  },
  {
   "cell_type": "markdown",
   "metadata": {},
   "source": [
    "# Dictionary"
   ]
  },
  {
   "cell_type": "code",
   "execution_count": 3,
   "metadata": {},
   "outputs": [],
   "source": [
    "l={\n",
    "    \"name\":\"amad\",\n",
    "    \"age\": 26,\n",
    "}"
   ]
  },
  {
   "cell_type": "code",
   "execution_count": 4,
   "metadata": {},
   "outputs": [
    {
     "data": {
      "text/plain": [
       "'amad'"
      ]
     },
     "execution_count": 4,
     "metadata": {},
     "output_type": "execute_result"
    }
   ],
   "source": [
    "l[\"name\"]"
   ]
  },
  {
   "cell_type": "code",
   "execution_count": 5,
   "metadata": {},
   "outputs": [],
   "source": [
    "l[\"school\"]=\"FURC\""
   ]
  },
  {
   "cell_type": "code",
   "execution_count": 6,
   "metadata": {},
   "outputs": [
    {
     "data": {
      "text/plain": [
       "{'name': 'amad', 'age': 26, 'school': 'FURC'}"
      ]
     },
     "execution_count": 6,
     "metadata": {},
     "output_type": "execute_result"
    }
   ],
   "source": [
    "l"
   ]
  },
  {
   "cell_type": "code",
   "execution_count": 11,
   "metadata": {},
   "outputs": [],
   "source": [
    "l[\"email\"]=\"amadatiq786@gmail.com\""
   ]
  },
  {
   "cell_type": "code",
   "execution_count": 12,
   "metadata": {},
   "outputs": [
    {
     "data": {
      "text/plain": [
       "{'name': 'amad', 'age': 26, 'school': 'FURC', 'email': 'amadatiq786@gmail.com'}"
      ]
     },
     "execution_count": 12,
     "metadata": {},
     "output_type": "execute_result"
    }
   ],
   "source": [
    "l"
   ]
  },
  {
   "cell_type": "code",
   "execution_count": null,
   "metadata": {},
   "outputs": [],
   "source": []
  },
  {
   "cell_type": "code",
   "execution_count": 14,
   "metadata": {},
   "outputs": [],
   "source": [
    "l[\"list\"]=[1,2,3,4,5]"
   ]
  },
  {
   "cell_type": "code",
   "execution_count": null,
   "metadata": {},
   "outputs": [],
   "source": []
  },
  {
   "cell_type": "code",
   "execution_count": 15,
   "metadata": {},
   "outputs": [
    {
     "data": {
      "text/plain": [
       "{'name': 'amad',\n",
       " 'age': 26,\n",
       " 'school': 'FURC',\n",
       " 'email': 'amadatiq786@gmail.com',\n",
       " 'list': [1, 2, 3, 4, 5]}"
      ]
     },
     "execution_count": 15,
     "metadata": {},
     "output_type": "execute_result"
    }
   ],
   "source": [
    "l"
   ]
  },
  {
   "cell_type": "code",
   "execution_count": 16,
   "metadata": {},
   "outputs": [
    {
     "data": {
      "text/plain": [
       "[1, 2, 3, 4, 5]"
      ]
     },
     "execution_count": 16,
     "metadata": {},
     "output_type": "execute_result"
    }
   ],
   "source": [
    "l[\"list\"]"
   ]
  },
  {
   "cell_type": "code",
   "execution_count": 17,
   "metadata": {},
   "outputs": [],
   "source": [
    "l[\"dict\"]={\"1\":1,\"2\":2}"
   ]
  },
  {
   "cell_type": "code",
   "execution_count": 18,
   "metadata": {},
   "outputs": [
    {
     "data": {
      "text/plain": [
       "{'name': 'amad',\n",
       " 'age': 26,\n",
       " 'school': 'FURC',\n",
       " 'email': 'amadatiq786@gmail.com',\n",
       " 'list': [1, 2, 3, 4, 5],\n",
       " 'dict': {'1': 1, '2': 2}}"
      ]
     },
     "execution_count": 18,
     "metadata": {},
     "output_type": "execute_result"
    }
   ],
   "source": [
    "l"
   ]
  },
  {
   "cell_type": "code",
   "execution_count": 23,
   "metadata": {},
   "outputs": [],
   "source": [
    "personalData={\n",
    "    \"name\":\"amad\",\n",
    "    \"age\":26,\n",
    "    \"job\":\"developer\",\n",
    "    \"hobies\":[\"programming\",\"gardening\"],\n",
    "    \"experience\":{1:\"1year\",2:\"2year\"}\n",
    "}"
   ]
  },
  {
   "cell_type": "code",
   "execution_count": 24,
   "metadata": {},
   "outputs": [
    {
     "data": {
      "text/plain": [
       "{'name': 'amad',\n",
       " 'age': 26,\n",
       " 'job': 'developer',\n",
       " 'hobies': ['programming', 'gardening'],\n",
       " 'experience': {1: '1year', 2: '2year'}}"
      ]
     },
     "execution_count": 24,
     "metadata": {},
     "output_type": "execute_result"
    }
   ],
   "source": [
    "personalData"
   ]
  },
  {
   "cell_type": "code",
   "execution_count": 30,
   "metadata": {},
   "outputs": [
    {
     "ename": "KeyError",
     "evalue": "'experience[1]'",
     "output_type": "error",
     "traceback": [
      "\u001b[1;31m---------------------------------------------------------------------------\u001b[0m",
      "\u001b[1;31mKeyError\u001b[0m                                  Traceback (most recent call last)",
      "\u001b[1;32m<ipython-input-30-bb9450ae7a5c>\u001b[0m in \u001b[0;36m<module>\u001b[1;34m\u001b[0m\n\u001b[1;32m----> 1\u001b[1;33m \u001b[0mpersonalData\u001b[0m\u001b[1;33m[\u001b[0m\u001b[1;34m\"experience[1]\"\u001b[0m\u001b[1;33m]\u001b[0m\u001b[1;33m\u001b[0m\u001b[1;33m\u001b[0m\u001b[0m\n\u001b[0m",
      "\u001b[1;31mKeyError\u001b[0m: 'experience[1]'"
     ]
    }
   ],
   "source": [
    "personalData[\"experience[1]\"]"
   ]
  },
  {
   "cell_type": "code",
   "execution_count": null,
   "metadata": {},
   "outputs": [],
   "source": []
  }
 ],
 "metadata": {
  "kernelspec": {
   "display_name": "Python 3",
   "language": "python",
   "name": "python3"
  },
  "language_info": {
   "codemirror_mode": {
    "name": "ipython",
    "version": 3
   },
   "file_extension": ".py",
   "mimetype": "text/x-python",
   "name": "python",
   "nbconvert_exporter": "python",
   "pygments_lexer": "ipython3",
   "version": "3.7.4"
  }
 },
 "nbformat": 4,
 "nbformat_minor": 2
}
