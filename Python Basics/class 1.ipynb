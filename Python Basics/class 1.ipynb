{
 "cells": [
  {
   "cell_type": "markdown",
   "metadata": {},
   "source": [
    "# Python Class 1"
   ]
  },
  {
   "cell_type": "code",
   "execution_count": 1,
   "metadata": {},
   "outputs": [
    {
     "name": "stdout",
     "output_type": "stream",
     "text": [
      "Pakistan Zindabad\n"
     ]
    }
   ],
   "source": [
    "print(\"Pakistan Zindabad\")"
   ]
  },
  {
   "cell_type": "code",
   "execution_count": 4,
   "metadata": {},
   "outputs": [
    {
     "name": "stdout",
     "output_type": "stream",
     "text": [
      "pakistan\n"
     ]
    }
   ],
   "source": [
    "print(\"pakistan\")"
   ]
  },
  {
   "cell_type": "code",
   "execution_count": 3,
   "metadata": {},
   "outputs": [
    {
     "name": "stdout",
     "output_type": "stream",
     "text": [
      "PIAIC\n"
     ]
    }
   ],
   "source": [
    "print(\"PIAIC\")"
   ]
  },
  {
   "cell_type": "markdown",
   "metadata": {},
   "source": [
    "this is the markdown"
   ]
  },
  {
   "cell_type": "raw",
   "metadata": {},
   "source": [
    "function(a,b){\n",
    "    return a+b\n",
    "}\n",
    "this is raw NBConvert"
   ]
  },
  {
   "cell_type": "markdown",
   "metadata": {},
   "source": [
    "# Data Types"
   ]
  },
  {
   "cell_type": "code",
   "execution_count": 6,
   "metadata": {},
   "outputs": [],
   "source": []
  },
  {
   "cell_type": "code",
   "execution_count": 10,
   "metadata": {},
   "outputs": [
    {
     "name": "stdout",
     "output_type": "stream",
     "text": [
      "\n",
      "PIAIC Islamabad Batch 3\n",
      "Name: Muhammad amad \n",
      "Father: Muhammad atiq \n",
      "unoversity: foundation university\n",
      "\n"
     ]
    }
   ],
   "source": [
    "name=\"Muhammad amad \"\n",
    "father_name=\"Muhammad atiq \"\n",
    "university=\"foundation university\"\n",
    "\n",
    "message=\"\"\"\n",
    "PIAIC Islamabad Batch 3\n",
    "Name: {}\n",
    "Father: {}\n",
    "unoversity: {}\n",
    "\"\"\".format(name,father_name,university)\n",
    "\n",
    "print(message)"
   ]
  },
  {
   "cell_type": "code",
   "execution_count": 11,
   "metadata": {},
   "outputs": [
    {
     "name": "stdout",
     "output_type": "stream",
     "text": [
      "\n",
      "Foundation University Islamabad\n",
      "Name: Muhammad amad atiq\n",
      "Father Name:Muhammad atiq durrani\n",
      "Batch: 2014-2018\n",
      "\n"
     ]
    }
   ],
   "source": [
    "name=\"Muhammad amad atiq\"\n",
    "father_name=\"Muhammad atiq durrani\"\n",
    "batch=\"2014-2018\"\n",
    "card=\"\"\"\n",
    "Foundation University Islamabad\n",
    "Name: {}\n",
    "Father Name:{}\n",
    "Batch: {}\n",
    "\"\"\".format(name,father_name,batch)\n",
    "print(card)"
   ]
  },
  {
   "cell_type": "code",
   "execution_count": 12,
   "metadata": {},
   "outputs": [
    {
     "name": "stdout",
     "output_type": "stream",
     "text": [
      "Help on built-in function print in module builtins:\n",
      "\n",
      "print(...)\n",
      "    print(value, ..., sep=' ', end='\\n', file=sys.stdout, flush=False)\n",
      "    \n",
      "    Prints the values to a stream, or to sys.stdout by default.\n",
      "    Optional keyword arguments:\n",
      "    file:  a file-like object (stream); defaults to the current sys.stdout.\n",
      "    sep:   string inserted between values, default a space.\n",
      "    end:   string appended after the last value, default a newline.\n",
      "    flush: whether to forcibly flush the stream.\n",
      "\n"
     ]
    }
   ],
   "source": [
    "help(print)"
   ]
  },
  {
   "cell_type": "code",
   "execution_count": 14,
   "metadata": {},
   "outputs": [],
   "source": [
    "print?"
   ]
  }
 ],
 "metadata": {
  "kernelspec": {
   "display_name": "Python 3",
   "language": "python",
   "name": "python3"
  },
  "language_info": {
   "codemirror_mode": {
    "name": "ipython",
    "version": 3
   },
   "file_extension": ".py",
   "mimetype": "text/x-python",
   "name": "python",
   "nbconvert_exporter": "python",
   "pygments_lexer": "ipython3",
   "version": "3.7.3"
  }
 },
 "nbformat": 4,
 "nbformat_minor": 2
}
