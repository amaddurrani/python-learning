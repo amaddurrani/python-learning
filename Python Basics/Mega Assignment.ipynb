{
 "cells": [
  {
   "cell_type": "markdown",
   "metadata": {},
   "source": [
    "1. Which of the following terms are related to dictionaries?\n",
    "<br>a. value\n",
    "<br>b. item\n",
    "<br>c. index\n",
    "<br><strong>d. key</strong>"
   ]
  },
  {
   "cell_type": "markdown",
   "metadata": {},
   "source": [
    "2. Just like lists, + operator is used to extend dictionaries?\n",
    "<br>a. True\n",
    "<br><strong>b. False</strong> "
   ]
  },
  {
   "cell_type": "markdown",
   "metadata": {},
   "source": [
    "3. To access items from a dictionary, we specify the index of that item within [] like myDict[0]?\n",
    "<br>a. True\n",
    "<br><STRONG>b. False</STRONG>"
   ]
  },
  {
   "cell_type": "markdown",
   "metadata": {},
   "source": [
    "4. When we use [] to access the value from a dictionary which does not exist in that dictionary….?\n",
    "<br>a. Value within [] is added to the dictionary\n",
    "<br><strong>b. Value None is returned</strong>\n",
    "<br>c. New dictionary is created\n",
    "<br>d. None of above"
   ]
  },
  {
   "cell_type": "markdown",
   "metadata": {},
   "source": [
    "5. What does return the pop method of a dictionary?\n",
    "<br>a. list\n",
    "<br>b. tuple containing the pair of last item of the dictionary\n",
    "<br>c. dictionary\n",
    "<br><strong>d. value of the key, if it exists in the dictionary</strong>"
   ]
  },
  {
   "cell_type": "markdown",
   "metadata": {},
   "source": [
    "6. What does return popitem method return?\n",
    "<br>a. dictionary\n",
    "<br><strong>b. tupple containing the pair of last item of the dictionary</strong>\n",
    "<br>c. list\n",
    "<br>d. value of key, if it exists in the dictionary"
   ]
  },
  {
   "cell_type": "markdown",
   "metadata": {},
   "source": [
    "7. Which of the following 2 methods can be used to iterate through the items of a dictionary?\n",
    "<br><strong>a. items()</strong>\n",
    "<br>b. values()\n",
    "<br>c. indexes()\n",
    "<br><strong>d. keys()</strong>\n"
   ]
  },
  {
   "cell_type": "markdown",
   "metadata": {},
   "source": [
    "8. Which one of the following is used to enclose a dictionary?\n",
    "<br>a. () parenthesis\n",
    "<br><strong>b. {} curly brackets</strong>\n",
    "<br>c. [] square brackets\n",
    "<br>d. “” quotation marks"
   ]
  },
  {
   "cell_type": "code",
   "execution_count": 8,
   "metadata": {},
   "outputs": [
    {
     "name": "stdout",
     "output_type": "stream",
     "text": [
      "a exist  in dictionary\n"
     ]
    }
   ],
   "source": [
    "# Write Python Program add key-value pair in dictionary and check if a Given Key or Value or Both\n",
    "# Exists in a Dictionary or Not.\n",
    "dict={'a':1,\"b\":2,\"c\":3}\n",
    "if \"a\" in dict:\n",
    "    print(\"a exist  in dictionary\")\n",
    "else:\n",
    "    print(\"a donot exist\")"
   ]
  },
  {
   "cell_type": "code",
   "execution_count": 30,
   "metadata": {},
   "outputs": [
    {
     "name": "stdout",
     "output_type": "stream",
     "text": [
      "{'A': 1, 'B': 2, 'C': 1, 'D': 1, 'S': 1, 'F': 3}\n"
     ]
    }
   ],
   "source": [
    "# Write a Python Program to Count the Frequency of Words Appearing in a String Using a\n",
    "str=\"A B B C D S F F F\"\n",
    "words=str.split()\n",
    "counts= {}\n",
    "for word in words:\n",
    "    if word in counts:\n",
    "        counts[word]+=1\n",
    "    else:\n",
    "        counts[word]=1\n",
    "print(counts)"
   ]
  },
  {
   "cell_type": "code",
   "execution_count": 47,
   "metadata": {},
   "outputs": [
    {
     "name": "stdout",
     "output_type": "stream",
     "text": [
      "['Feb', 'Apr', 'Mar']\n",
      "['Mar', 'May', 'Jun', 'Jul', 'Aug', 'Jan']\n",
      "['Jun', 'Jul', 'Aug', 'Jan']\n",
      "['Apr', 'May', 'Jul']\n",
      "[]\n",
      "['Apr', 'Mar', 'May', 'Jun', 'Jul', 'Aug']\n",
      "['Jan', 'Jul', 'May', 'Apr']\n",
      "['Feb', 'Apr', 'Mar', 'May']\n"
     ]
    }
   ],
   "source": [
    "X = [\"Feb\", \"Apr\", \"Mar\", \"May\", \"Jun\", \"Jul\", \"Aug\", \"Jan\"]\n",
    "print(X[0:3])\n",
    "print(X[2:8])\n",
    "print(X[4:9])\n",
    "print(X[1:7:2]) \n",
    "print(X[-1:-7]) \n",
    "print(X[-7:7])\n",
    "print(X[-1:-8:-2])\n",
    "print(X[:4])\n"
   ]
  },
  {
   "cell_type": "code",
   "execution_count": 49,
   "metadata": {},
   "outputs": [
    {
     "name": "stdout",
     "output_type": "stream",
     "text": [
      "[2, 8, 4, 5]\n"
     ]
    }
   ],
   "source": [
    "X = [ 9,2,8,4,5]\n",
    "X.remove(9)\n",
    "print(X)"
   ]
  },
  {
   "cell_type": "markdown",
   "metadata": {},
   "source": [
    "13. p = 3\n",
    " <br>q = 'hello! '\n",
    " <br>print( q __?__ p)\n",
    " <br>hello! hello! hello!\n",
    " <br><strong>1) *</strong>\n",
    " <br>2) **\n",
    " <br>3) +"
   ]
  },
  {
   "cell_type": "markdown",
   "metadata": {},
   "source": [
    "14. y = \"this is a random sentence\"\n",
    "<br>print (y__?__)\n",
    "<br>Output: THIS IS A RANDOM SENTENCE\n",
    "<br>1) .upper()\n",
    "<br>2) .upcase()\n",
    "<br><strong>3) .capitalize()</strong>\n"
   ]
  },
  {
   "cell_type": "code",
   "execution_count": 55,
   "metadata": {},
   "outputs": [
    {
     "name": "stdout",
     "output_type": "stream",
     "text": [
      "<class 'bool'>\n",
      "<class 'str'>\n",
      "<class 'float'>\n"
     ]
    }
   ],
   "source": [
    " p = True\n",
    " q = 'True'\n",
    " r = 2\n",
    " r = 2.0\n",
    "print(type(p))\n",
    "print(type(q))\n",
    "print(type(r))\n"
   ]
  },
  {
   "cell_type": "markdown",
   "metadata": {},
   "source": [
    "16. What are the optional arguments to the function?\n",
    "<br>function_1(R1, q, p=None, R2= None)\n",
    "<br>1) q and R2\n",
    "<br><strong>2) p and R2</strong>\n",
    "<br>3) p and R1\n",
    "<br>4) R1 and q"
   ]
  },
  {
   "cell_type": "markdown",
   "metadata": {},
   "source": [
    "17. Which command invokes method X() of the object p?\n",
    "<br>1) X(p)\n",
    "<br>2) p$x()\n",
    "<br>3) X().p\n",
    "<br><strong>4) p.x()</strong>"
   ]
  },
  {
   "cell_type": "code",
   "execution_count": 57,
   "metadata": {},
   "outputs": [
    {
     "name": "stdout",
     "output_type": "stream",
     "text": [
      "0\n",
      "2.0\n",
      "2\n",
      "2\n"
     ]
    }
   ],
   "source": [
    "X=4\n",
    "Y= 2\n",
    "print(X % Y)\n",
    "print(X / Y)\n",
    "print(X // Y)\n",
    "print(Y % X)"
   ]
  },
  {
   "cell_type": "code",
   "execution_count": 60,
   "metadata": {},
   "outputs": [
    {
     "name": "stdout",
     "output_type": "stream",
     "text": [
      "4\n",
      "1\n",
      "1\n",
      "5\n",
      "9\n",
      "0\n"
     ]
    }
   ],
   "source": [
    "x=[[4,1,1],[5,9,0]]\n",
    "for i in x:\n",
    "    for j in i:\n",
    "        print(j)"
   ]
  },
  {
   "cell_type": "code",
   "execution_count": 66,
   "metadata": {},
   "outputs": [
    {
     "name": "stdout",
     "output_type": "stream",
     "text": [
      "4 1 1 5 9 0 "
     ]
    }
   ],
   "source": [
    "x=[[4,1,1],[5,9,0]]\n",
    "for i in x:\n",
    "    for j in i:\n",
    "        print(j,end=\" \")"
   ]
  },
  {
   "cell_type": "code",
   "execution_count": 67,
   "metadata": {},
   "outputs": [
    {
     "name": "stdout",
     "output_type": "stream",
     "text": [
      "4 1 1 \n",
      "5 9 0 \n"
     ]
    }
   ],
   "source": [
    "x=[[4,1,1],[5,9,0]]\n",
    "for i in x:\n",
    "    for j in i:\n",
    "        print(j,end=\" \")\n",
    "    print(\"\")"
   ]
  },
  {
   "cell_type": "markdown",
   "metadata": {},
   "source": [
    "Which of these about a dictionary is false?\n",
    "<br>a) The values of a dictionary can be accessed using keys\n",
    "<br><strong>b) The keys of a dictionary can be accessed using values</strong>\n",
    "<br>c) Dictionaries aren’t ordered\n",
    "<br>d) Dictionaries are mutable"
   ]
  },
  {
   "cell_type": "code",
   "execution_count": 71,
   "metadata": {},
   "outputs": [
    {
     "name": "stdout",
     "output_type": "stream",
     "text": [
      "{0: 1, 1: 1, 2: 1}\n"
     ]
    }
   ],
   "source": [
    "D = {}\n",
    "for i in range (3):\n",
    "    for j in range(2):\n",
    "        D[i] = j \n",
    "print(D)"
   ]
  },
  {
   "cell_type": "code",
   "execution_count": 73,
   "metadata": {},
   "outputs": [
    {
     "name": "stdout",
     "output_type": "stream",
     "text": [
      "11.333333333333334\n"
     ]
    }
   ],
   "source": [
    "def avg ( x , y , z = 50 ):\n",
    "    adding = x + y + z\n",
    "    avg_value = adding / 3\n",
    "    return avg_value\n",
    "y = avg ( x = 5 , y = 9 , z = 20 )\n",
    "print(y)"
   ]
  },
  {
   "cell_type": "code",
   "execution_count": null,
   "metadata": {},
   "outputs": [],
   "source": []
  }
 ],
 "metadata": {
  "kernelspec": {
   "display_name": "Python 3",
   "language": "python",
   "name": "python3"
  },
  "language_info": {
   "codemirror_mode": {
    "name": "ipython",
    "version": 3
   },
   "file_extension": ".py",
   "mimetype": "text/x-python",
   "name": "python",
   "nbconvert_exporter": "python",
   "pygments_lexer": "ipython3",
   "version": "3.7.4"
  }
 },
 "nbformat": 4,
 "nbformat_minor": 2
}
