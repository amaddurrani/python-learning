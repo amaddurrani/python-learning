{
 "cells": [
  {
   "cell_type": "markdown",
   "metadata": {},
   "source": [
    "<h1>Topics</h1>\n",
    "<ul>\n",
    "    <li>Class</li>\n",
    "    <li>Inheritance</li>\n",
    "    <li>Method</li>\n",
    "    <li>Attributes/Properties</li>\n",
    "    <li>class variable</li>\n",
    "</ul>"
   ]
  },
  {
   "cell_type": "code",
   "execution_count": 32,
   "metadata": {},
   "outputs": [],
   "source": [
    "class Student():\n",
    "    counter =0\n",
    "    def __init__(self,sid):\n",
    "        self.sid=sid\n",
    "        self.name=\"\"\n",
    "        self.fname=\"\"\n",
    "        self.course=\"\"\n",
    "        self.fee=0\n",
    "        self.user=\"\"\n",
    "        Student.counter+=1\n",
    "        \n",
    "    def login(self,user,password):\n",
    "        self.user=user\n",
    "        print(\"Welcome\", self.user)\n",
    "    def logout(self):\n",
    "        pass\n",
    "    def quiz_attempt(self):\n",
    "        pass\n",
    "    def attendance_mark(self):\n",
    "        pass\n",
    "    \n",
    "s1= Student(1)\n",
    "s2=Student(2)\n",
    "s3 = Student(3)"
   ]
  },
  {
   "cell_type": "code",
   "execution_count": 29,
   "metadata": {},
   "outputs": [],
   "source": [
    "s1.name=\"Amad\"\n",
    "s2.name=\"Hamza\"\n",
    "s3.name=\"ali\""
   ]
  },
  {
   "cell_type": "code",
   "execution_count": 30,
   "metadata": {},
   "outputs": [
    {
     "name": "stdout",
     "output_type": "stream",
     "text": [
      "Amad\n",
      "Hamza\n",
      "ali\n"
     ]
    }
   ],
   "source": [
    "print(s1.name,s2.name,s3.name,sep=\"\\n\")"
   ]
  },
  {
   "cell_type": "code",
   "execution_count": 33,
   "metadata": {},
   "outputs": [
    {
     "data": {
      "text/plain": [
       "3"
      ]
     },
     "execution_count": 33,
     "metadata": {},
     "output_type": "execute_result"
    }
   ],
   "source": [
    "s1.counter"
   ]
  },
  {
   "cell_type": "code",
   "execution_count": 34,
   "metadata": {},
   "outputs": [
    {
     "data": {
      "text/plain": [
       "3"
      ]
     },
     "execution_count": 34,
     "metadata": {},
     "output_type": "execute_result"
    }
   ],
   "source": [
    "Student.counter\n"
   ]
  },
  {
   "cell_type": "code",
   "execution_count": 36,
   "metadata": {},
   "outputs": [
    {
     "name": "stdout",
     "output_type": "stream",
     "text": [
      "Welcome Amad\n"
     ]
    }
   ],
   "source": [
    "s1.login(\"Amad\",\"123\")"
   ]
  },
  {
   "cell_type": "code",
   "execution_count": 39,
   "metadata": {},
   "outputs": [
    {
     "data": {
      "text/plain": [
       "'123'"
      ]
     },
     "execution_count": 39,
     "metadata": {},
     "output_type": "execute_result"
    }
   ],
   "source": [
    "s1.Dob=\"123\"\n",
    "s1.Dob"
   ]
  },
  {
   "cell_type": "code",
   "execution_count": 40,
   "metadata": {},
   "outputs": [],
   "source": [
    "del s1.Dob"
   ]
  },
  {
   "cell_type": "markdown",
   "metadata": {},
   "source": [
    "# Inheritance "
   ]
  },
  {
   "cell_type": "code",
   "execution_count": 42,
   "metadata": {},
   "outputs": [],
   "source": [
    "class Parent():\n",
    "    def __init__(self):\n",
    "        self.name=\"\"\n",
    "        self.fname=\"\"\n",
    "    def speak(self,words=\"\"):\n",
    "        print(words,\"...\")\n",
    "    def eat(self,food=\"roti\"):\n",
    "        print(food)\n",
    "\n",
    "class Child(Parent):\n",
    "    pass\n"
   ]
  },
  {
   "cell_type": "code",
   "execution_count": 44,
   "metadata": {},
   "outputs": [
    {
     "name": "stdout",
     "output_type": "stream",
     "text": [
      "Abc\n"
     ]
    }
   ],
   "source": [
    "p_obj1=Parent()\n",
    "p_obj1.name=\"Abc\"\n",
    "print(p_obj1.name)"
   ]
  },
  {
   "cell_type": "code",
   "execution_count": 46,
   "metadata": {},
   "outputs": [
    {
     "name": "stdout",
     "output_type": "stream",
     "text": [
      "Pakistan Zindabad ...\n"
     ]
    }
   ],
   "source": [
    "c_obj1=Child()\n",
    "c_obj1.speak(\"Pakistan Zindabad\")"
   ]
  },
  {
   "cell_type": "code",
   "execution_count": 47,
   "metadata": {},
   "outputs": [
    {
     "name": "stdout",
     "output_type": "stream",
     "text": [
      "roti\n"
     ]
    }
   ],
   "source": [
    "c_obj1.eat()"
   ]
  },
  {
   "cell_type": "code",
   "execution_count": 56,
   "metadata": {},
   "outputs": [],
   "source": [
    "class Father():\n",
    "    def __init__(self):\n",
    "        self.name=\"\"\n",
    "        self.fname=\"\"\n",
    "    def speak(self,words=\"\"):\n",
    "        print(words,\"... by father\")\n",
    "    def eat(self,food=\"roti\"):\n",
    "        print(food)\n",
    "class Mother():\n",
    "    def __init__(self):\n",
    "        self.name=\"\"\n",
    "        self.fname=\"\"\n",
    "    def speak(self,words=\"\"):\n",
    "        print(words,\"... by mother\")\n",
    "    def eat(self,food=\"roti\"):\n",
    "        print(food)\n",
    "\n",
    "class Child(Father,Mother):\n",
    "    pass\n",
    "class Child2(Child)\n",
    "    pass"
   ]
  },
  {
   "cell_type": "code",
   "execution_count": 57,
   "metadata": {},
   "outputs": [
    {
     "name": "stdout",
     "output_type": "stream",
     "text": [
      "Amad ... by father\n"
     ]
    }
   ],
   "source": [
    "c=Child()\n",
    "c.speak(\"Amad\")"
   ]
  },
  {
   "cell_type": "markdown",
   "metadata": {},
   "source": [
    "## Polymorphism"
   ]
  },
  {
   "cell_type": "markdown",
   "metadata": {},
   "source": [
    "## Overloading "
   ]
  },
  {
   "cell_type": "code",
   "execution_count": 65,
   "metadata": {},
   "outputs": [
    {
     "name": "stdout",
     "output_type": "stream",
     "text": [
      "1\n",
      "10\n"
     ]
    }
   ],
   "source": [
    "class A():\n",
    "    def abc(self,*n):\n",
    "        print(sum(n))\n",
    "a=A()\n",
    "a.abc(1)\n",
    "a.abc(1,2,3,4)"
   ]
  },
  {
   "cell_type": "markdown",
   "metadata": {},
   "source": [
    "## overriding"
   ]
  },
  {
   "cell_type": "code",
   "execution_count": 69,
   "metadata": {},
   "outputs": [],
   "source": [
    "class A():\n",
    "    def speak(self):\n",
    "        print(\"speak Function class A\")\n",
    "class B(A):\n",
    "    def speak(self):\n",
    "        print(\"speak Function class B\")"
   ]
  },
  {
   "cell_type": "code",
   "execution_count": 70,
   "metadata": {},
   "outputs": [
    {
     "name": "stdout",
     "output_type": "stream",
     "text": [
      "speak Function class B\n"
     ]
    }
   ],
   "source": [
    "b= B()\n",
    "b.speak()"
   ]
  }
 ],
 "metadata": {
  "kernelspec": {
   "display_name": "Python 3",
   "language": "python",
   "name": "python3"
  },
  "language_info": {
   "codemirror_mode": {
    "name": "ipython",
    "version": 3
   },
   "file_extension": ".py",
   "mimetype": "text/x-python",
   "name": "python",
   "nbconvert_exporter": "python",
   "pygments_lexer": "ipython3",
   "version": "3.7.4"
  }
 },
 "nbformat": 4,
 "nbformat_minor": 2
}
