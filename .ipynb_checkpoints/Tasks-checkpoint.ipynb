{
 "cells": [
  {
   "cell_type": "markdown",
   "metadata": {},
   "source": [
    "\n",
    "# Task 1"
   ]
  },
  {
   "cell_type": "code",
   "execution_count": 13,
   "metadata": {},
   "outputs": [
    {
     "name": "stdout",
     "output_type": "stream",
     "text": [
      "enter your marks49\n",
      "E\n"
     ]
    }
   ],
   "source": [
    "\n",
    "grade = int(input(\"enter your marks\"))\n",
    "if (grade >= 90):\n",
    "    print(\"A\")\n",
    "elif(grade >=80 and grade <= 89):\n",
    "    print(\"B\")\n",
    "elif(grade >= 70 and grade <=79):\n",
    "    print(\"C\")\n",
    "elif(grade >=60 and grade <=69):\n",
    "    print(\"D\")\n",
    "elif(grade<=60):\n",
    "    print(\"E\")"
   ]
  },
  {
   "cell_type": "code",
   "execution_count": 2,
   "metadata": {},
   "outputs": [
    {
     "name": "stdout",
     "output_type": "stream",
     "text": [
      "Enter number of days1\n",
      " sunday or thursday?sunday\n",
      "time?11\n",
      "enter 1 if dvd is scratched otherwise 00\n",
      "0.795\n"
     ]
    }
   ],
   "source": [
    "cost =1.59\n",
    "scratched=0\n",
    "days=int(input(\"Enter number of days\"))\n",
    "day=input(\"sunday or thursday?\")\n",
    "time= int(input(\"time?\"))\n",
    "scratched=int(input(\"enter 1 if dvd is scratched otherwise 0\"))\n",
    "if(time >20 and time<=24):\n",
    "    if(scratched==1):\n",
    "        cost=cost+1\n",
    "    days=days+1\n",
    "    cost=days*cost\n",
    "if(day==\"thursday\"):\n",
    "    cost=cost-(cost*0.30)\n",
    "    if(scratched==1):\n",
    "        cost=cost+2\n",
    "    cost=cost*days\n",
    "elif(day==\"sunday\"):\n",
    "    cost=cost-(cost*0.5)\n",
    "    if(scratched==1):\n",
    "        cost=cost+3\n",
    "    cost=cost*days\n",
    "print(cost)"
   ]
  },
  {
   "cell_type": "code",
   "execution_count": null,
   "metadata": {},
   "outputs": [],
   "source": []
  }
 ],
 "metadata": {
  "kernelspec": {
   "display_name": "Python 3",
   "language": "python",
   "name": "python3"
  },
  "language_info": {
   "codemirror_mode": {
    "name": "ipython",
    "version": 3
   },
   "file_extension": ".py",
   "mimetype": "text/x-python",
   "name": "python",
   "nbconvert_exporter": "python",
   "pygments_lexer": "ipython3",
   "version": "3.7.4"
  }
 },
 "nbformat": 4,
 "nbformat_minor": 2
}
