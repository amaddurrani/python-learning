{
 "cells": [
  {
   "cell_type": "markdown",
   "metadata": {},
   "source": [
    "<h1>Topics</h1>\n",
    "<ul>\n",
    "    <li>Class</li>\n",
    "    <li>Inheritance</li>\n",
    "    <li>Method</li>\n",
    "    <li>Attributes/Properties</li>\n",
    "    <li>class variable</li>\n",
    "</ul>"
   ]
  },
  {
   "cell_type": "code",
   "execution_count": 32,
   "metadata": {},
   "outputs": [],
   "source": [
    "class Student():\n",
    "    counter =0\n",
    "    def __init__(self,sid):\n",
    "        self.sid=sid\n",
    "        self.name=\"\"\n",
    "        self.fname=\"\"\n",
    "        self.course=\"\"\n",
    "        self.fee=0\n",
    "        self.user=\"\"\n",
    "        Student.counter+=1\n",
    "        \n",
    "    def login(self,user,password):\n",
    "        self.user=user\n",
    "        print(\"Welcome\", self.user)\n",
    "    def logout(self):\n",
    "        pass\n",
    "    def quiz_attempt(self):\n",
    "        pass\n",
    "    def attendance_mark(self):\n",
    "        pass\n",
    "    \n",
    "s1= Student(1)\n",
    "s2=Student(2)\n",
    "s3 = Student(3)"
   ]
  },
  {
   "cell_type": "code",
   "execution_count": 29,
   "metadata": {},
   "outputs": [],
   "source": [
    "s1.name=\"Amad\"\n",
    "s2.name=\"Hamza\"\n",
    "s3.name=\"ali\""
   ]
  },
  {
   "cell_type": "code",
   "execution_count": 30,
   "metadata": {},
   "outputs": [
    {
     "name": "stdout",
     "output_type": "stream",
     "text": [
      "Amad\n",
      "Hamza\n",
      "ali\n"
     ]
    }
   ],
   "source": [
    "print(s1.name,s2.name,s3.name,sep=\"\\n\")"
   ]
  },
  {
   "cell_type": "code",
   "execution_count": 33,
   "metadata": {},
   "outputs": [
    {
     "data": {
      "text/plain": [
       "3"
      ]
     },
     "execution_count": 33,
     "metadata": {},
     "output_type": "execute_result"
    }
   ],
   "source": [
    "s1.counter"
   ]
  },
  {
   "cell_type": "code",
   "execution_count": 34,
   "metadata": {},
   "outputs": [
    {
     "data": {
      "text/plain": [
       "3"
      ]
     },
     "execution_count": 34,
     "metadata": {},
     "output_type": "execute_result"
    }
   ],
   "source": [
    "Student.counter\n"
   ]
  },
  {
   "cell_type": "code",
   "execution_count": 36,
   "metadata": {},
   "outputs": [
    {
     "name": "stdout",
     "output_type": "stream",
     "text": [
      "Welcome Amad\n"
     ]
    }
   ],
   "source": [
    "s1.login(\"Amad\",\"123\")"
   ]
  },
  {
   "cell_type": "code",
   "execution_count": 39,
   "metadata": {},
   "outputs": [
    {
     "data": {
      "text/plain": [
       "'123'"
      ]
     },
     "execution_count": 39,
     "metadata": {},
     "output_type": "execute_result"
    }
   ],
   "source": [
    "s1.Dob=\"123\"\n",
    "s1.Dob"
   ]
  },
  {
   "cell_type": "code",
   "execution_count": null,
   "metadata": {},
   "outputs": [],
   "source": []
  }
 ],
 "metadata": {
  "kernelspec": {
   "display_name": "Python 3",
   "language": "python",
   "name": "python3"
  },
  "language_info": {
   "codemirror_mode": {
    "name": "ipython",
    "version": 3
   },
   "file_extension": ".py",
   "mimetype": "text/x-python",
   "name": "python",
   "nbconvert_exporter": "python",
   "pygments_lexer": "ipython3",
   "version": "3.7.4"
  }
 },
 "nbformat": 4,
 "nbformat_minor": 2
}
